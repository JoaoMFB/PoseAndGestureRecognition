{
 "cells": [
  {
   "cell_type": "code",
   "execution_count": 20,
   "metadata": {},
   "outputs": [],
   "source": [
    "#importa bibliotecas necessárias\n",
    "import mediapipe as mp\n",
    "import cv2"
   ]
  },
  {
   "cell_type": "code",
   "execution_count": 21,
   "metadata": {},
   "outputs": [],
   "source": [
    "#inicializa drawing e holistic model\n",
    "mp_drawing = mp.solutions.drawing_utils\n",
    "mp_holistic = mp.solutions.holistic"
   ]
  },
  {
   "cell_type": "code",
   "execution_count": 52,
   "metadata": {},
   "outputs": [
    {
     "name": "stderr",
     "output_type": "stream",
     "text": [
      "I0000 00:00:1725566101.757667    8413 gl_context_egl.cc:85] Successfully initialized EGL. Major : 1 Minor: 5\n",
      "I0000 00:00:1725566101.759793   19291 gl_context.cc:357] GL version: 3.2 (OpenGL ES 3.2 Mesa 23.2.1-1ubuntu3.1~22.04.2), renderer: Mesa Intel(R) Graphics (RPL-U)\n",
      "W0000 00:00:1725566101.822423   19278 inference_feedback_manager.cc:114] Feedback manager requires a model with a single signature inference. Disabling support for feedback tensors.\n",
      "W0000 00:00:1725566101.840270   19286 inference_feedback_manager.cc:114] Feedback manager requires a model with a single signature inference. Disabling support for feedback tensors.\n",
      "W0000 00:00:1725566101.842238   19285 inference_feedback_manager.cc:114] Feedback manager requires a model with a single signature inference. Disabling support for feedback tensors.\n",
      "W0000 00:00:1725566101.842406   19283 inference_feedback_manager.cc:114] Feedback manager requires a model with a single signature inference. Disabling support for feedback tensors.\n",
      "W0000 00:00:1725566101.844028   19280 inference_feedback_manager.cc:114] Feedback manager requires a model with a single signature inference. Disabling support for feedback tensors.\n",
      "W0000 00:00:1725566101.853403   19282 inference_feedback_manager.cc:114] Feedback manager requires a model with a single signature inference. Disabling support for feedback tensors.\n",
      "W0000 00:00:1725566101.857751   19285 inference_feedback_manager.cc:114] Feedback manager requires a model with a single signature inference. Disabling support for feedback tensors.\n",
      "W0000 00:00:1725566101.858451   19284 inference_feedback_manager.cc:114] Feedback manager requires a model with a single signature inference. Disabling support for feedback tensors.\n"
     ]
    }
   ],
   "source": [
    "#abre a câmera\n",
    "cap = cv2.VideoCapture(0)\n",
    "\n",
    "#funções que detectam poses específicas\n",
    "def verify_midfinger(landmarks):\n",
    "    if (landmarks.landmark[12].y < landmarks.landmark[8].y and \n",
    "        landmarks.landmark[12].y < landmarks.landmark[16].y and \n",
    "        landmarks.landmark[12].y < landmarks.landmark[20].y and\n",
    "        landmarks.landmark[12].y < landmarks.landmark[9].y):\n",
    "        return True\n",
    "    return False\n",
    "\n",
    "def verify_pose(landmarks):\n",
    "    right_elbow = landmarks.landmark[14]\n",
    "    right_wrist = landmarks.landmark[16]\n",
    "    right_shoulder = landmarks.landmark[12]\n",
    "\n",
    "    if abs(right_shoulder.y - right_elbow.y) < 0.1 and abs(right_wrist.x - right_elbow.x)<0.1:\n",
    "        return True\n",
    "    return False\n",
    "\n",
    "\n",
    "#instancia o modelo holistic com uma confiança de 50%\n",
    "with mp_holistic.Holistic(min_detection_confidence=0.5, min_tracking_confidence=0.5) as holistic:\n",
    "    \n",
    "    while cap.isOpened():\n",
    "        ret, frame = cap.read()\n",
    "    \n",
    "        #muda as cores do formato BGR para RGB\n",
    "        image = cv2.cvtColor(frame, cv2.COLOR_BGR2RGB)\n",
    "\n",
    "        #detecta as landmarks com o modelo holistic e \"salva\" no objeto results\n",
    "        results = holistic.process(image)\n",
    "\n",
    "        #muda de volta para BGR\n",
    "        image = cv2.cvtColor(image, cv2.COLOR_RGB2BGR)\n",
    "        \n",
    "        #desenha na tela as conexões e as landmarks de: right_hand, left_hand e pose\n",
    "        mp_drawing.draw_landmarks(image, results.right_hand_landmarks, mp_holistic.HAND_CONNECTIONS)\n",
    "        mp_drawing.draw_landmarks(image, results.left_hand_landmarks, mp_holistic.HAND_CONNECTIONS)\n",
    "        mp_drawing.draw_landmarks(image, results.pose_landmarks, mp_holistic.POSE_CONNECTIONS)\n",
    "\n",
    "        #verifica se as poses específicas foram detectadas\n",
    "        if results.pose_landmarks:\n",
    "            if verify_pose(results.pose_landmarks):\n",
    "                cv2.putText(image, 'pose detectada', (50, 50), cv2.FONT_HERSHEY_DUPLEX, 1, (0, 255, 0), 2, cv2.LINE_AA)\n",
    "\n",
    "        if results.right_hand_landmarks:\n",
    "            if verify_midfinger(results.right_hand_landmarks):\n",
    "                cv2.putText(image, 'seja mais educado', (50, 100), cv2.FONT_HERSHEY_SIMPLEX, 1, (0, 0, 255), 2, cv2.LINE_AA)\n",
    "        if results.left_hand_landmarks:\n",
    "            if verify_midfinger(results.left_hand_landmarks):\n",
    "                cv2.putText(image, 'seja mais educado', (50, 100), cv2.FONT_HERSHEY_SIMPLEX, 1, (0, 0, 255), 2, cv2.LINE_AA)\n",
    "\n",
    "              \n",
    "        cv2.imshow('camera', image)\n",
    "\n",
    "        #sai do while ao pressionar 'q'\n",
    "        if cv2.waitKey(10) & 0xFF == ord('q'):\n",
    "            break\n",
    "\n",
    "cap.release()\n",
    "cv2.destroyAllWindows()\n"
   ]
  },
  {
   "cell_type": "code",
   "execution_count": null,
   "metadata": {},
   "outputs": [],
   "source": []
  }
 ],
 "metadata": {
  "kernelspec": {
   "display_name": "Python 3",
   "language": "python",
   "name": "python3"
  },
  "language_info": {
   "codemirror_mode": {
    "name": "ipython",
    "version": 3
   },
   "file_extension": ".py",
   "mimetype": "text/x-python",
   "name": "python",
   "nbconvert_exporter": "python",
   "pygments_lexer": "ipython3",
   "version": "3.10.12"
  }
 },
 "nbformat": 4,
 "nbformat_minor": 2
}
